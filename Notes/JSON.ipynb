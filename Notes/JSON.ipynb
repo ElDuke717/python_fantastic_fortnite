{
 "cells": [
  {
   "cell_type": "markdown",
   "metadata": {},
   "source": [
    "# Working with JSON files"
   ]
  },
  {
   "cell_type": "markdown",
   "metadata": {},
   "source": [
    "### Loading JSON files\n",
    "\n"
   ]
  },
  {
   "cell_type": "code",
   "execution_count": 1,
   "metadata": {},
   "outputs": [],
   "source": [
    "import json\n",
    "\n",
    "jsonString = '{ \"a\": \"apple\", \"b\":\"bear\", \"c\": \"cat\"}'\n",
    "try:\n",
    "    json.loads(jsonString)\n",
    "except JSONDecodeError:\n",
    "    print('Could not parse JSON!')"
   ]
  },
  {
   "cell_type": "code",
   "execution_count": 3,
   "metadata": {},
   "outputs": [
    {
     "data": {
      "text/plain": [
       "{'a': 'apple', 'b': 'bear', 'c': 'cat'}"
      ]
     },
     "execution_count": 3,
     "metadata": {},
     "output_type": "execute_result"
    }
   ],
   "source": [
    "{ \"a\": \"apple\", \"b\":\"bear\", \"c\": \"cat\"}"
   ]
  },
  {
   "cell_type": "markdown",
   "metadata": {},
   "source": [
    "### Dumping JSON files"
   ]
  },
  {
   "cell_type": "code",
   "execution_count": 4,
   "metadata": {},
   "outputs": [
    {
     "data": {
      "text/plain": [
       "'{\"a\": \"apple\", \"b\": \"bear\", \"c\": \"cat\"}'"
      ]
     },
     "execution_count": 4,
     "metadata": {},
     "output_type": "execute_result"
    }
   ],
   "source": [
    "pythonDict = {'a': 'apple', 'b': 'bear', 'c': 'cat',}\n",
    "# converts from a python dictionary to a JSON string\n",
    "json.dumps(pythonDict)"
   ]
  },
  {
   "cell_type": "markdown",
   "metadata": {},
   "source": [
    "### Custom JSON Decoders"
   ]
  },
  {
   "cell_type": "code",
   "execution_count": 6,
   "metadata": {},
   "outputs": [
    {
     "data": {
      "text/plain": [
       "'{\"a\": \"aardvark\", \"b\": \"bear\", \"c\": \"cat\"}'"
      ]
     },
     "execution_count": 6,
     "metadata": {},
     "output_type": "execute_result"
    }
   ],
   "source": [
    "import json\n",
    "from json import JSONDecodeError, JSONEncoder\n",
    "\n",
    "class Animal:\n",
    "    def __init__(self,name):\n",
    "        self.name = name\n",
    "\n",
    "# we build a JSON encoder\n",
    "class AnimalEncoder(JSONEncoder):\n",
    "    def default(self, o):\n",
    "        if type(o) == Animal:\n",
    "            return o.name\n",
    "        return super().default(o) \n",
    "\n",
    "pythonDict = pythonDict = {'a': Animal('aardvark'), 'b': Animal('bear'), 'c': Animal('cat'),}\n",
    "json.dumps(pythonDict, cls=AnimalEncoder)"
   ]
  },
  {
   "cell_type": "markdown",
   "metadata": {},
   "source": [
    "Sure, let's break down the code step by step.\n",
    "\n",
    "1. **Importing necessary modules**:\n",
    "   ```python\n",
    "   import json\n",
    "   from json import JSONDecodeError, JSONEncoder\n",
    "   ```\n",
    "   The code starts by importing the necessary modules. `json` is a built-in module in Python that provides methods to work with JSON objects. The specific classes `JSONDecodeError` and `JSONEncoder` are also imported, though `JSONDecodeError` isn't used in the given code.\n",
    "\n",
    "2. **Defining the `Animal` class**:\n",
    "   ```python\n",
    "   class Animal:\n",
    "       def __init__(self, name):\n",
    "           self.name = name\n",
    "   ```\n",
    "   The code defines a simple class named `Animal`. An instance of the `Animal` class has an attribute `name`.\n",
    "\n",
    "3. **Creating a custom JSON Encoder**:\n",
    "   ```python\n",
    "   class AnimalEncoder(JSONEncoder):\n",
    "       def default(self, o):\n",
    "           if type(o) == Animal:\n",
    "               return o.name\n",
    "           return super().default(o) \n",
    "   ```\n",
    "   Here, a custom JSON encoder named `AnimalEncoder` is defined by subclassing `JSONEncoder`. This encoder defines how to convert an `Animal` object into a JSON serializable format. \n",
    "\n",
    "   - If the object `o` being serialized is an instance of the `Animal` class, its name attribute is returned, effectively serializing the Animal object to its name.\n",
    "   \n",
    "   - If the object isn't an `Animal`, it falls back to the default behavior of the base `JSONEncoder` class by calling `super().default(o)`.\n",
    "\n",
    "4. **Creating a dictionary with `Animal` objects**:\n",
    "   ```python\n",
    "   pythonDict = {'a': Animal('aardvark'), 'b': Animal('bear'), 'c': Animal('cat')}\n",
    "   ```\n",
    "   A dictionary named `pythonDict` is created. This dictionary contains three key-value pairs where each key is a string and each value is an instance of the `Animal` class.\n",
    "\n",
    "5. **Converting the dictionary to a JSON string**:\n",
    "   ```python\n",
    "   json.dumps(pythonDict, cls=AnimalEncoder)\n",
    "   ```\n",
    "   The `json.dumps()` method is used to convert `pythonDict` into a JSON string. The `cls` parameter is set to `AnimalEncoder`, which instructs `json.dumps()` to use the custom `AnimalEncoder` to serialize objects in the dictionary.\n",
    "\n",
    "   As a result, when this line executes, it would produce a JSON string similar to this:\n",
    "   ```\n",
    "   {\"a\": \"aardvark\", \"b\": \"bear\", \"c\": \"cat\"}\n",
    "   ```\n",
    "   The `Animal` objects in the dictionary are serialized to their respective names due to the behavior defined in the `AnimalEncoder`.\n",
    "\n",
    "In summary, this code demonstrates how to define and use a custom JSON encoder to serialize Python objects that aren't natively serializable by the `json` module."
   ]
  },
  {
   "cell_type": "markdown",
   "metadata": {},
   "source": []
  }
 ],
 "metadata": {
  "kernelspec": {
   "display_name": "env",
   "language": "python",
   "name": "python3"
  },
  "language_info": {
   "codemirror_mode": {
    "name": "ipython",
    "version": 3
   },
   "file_extension": ".py",
   "mimetype": "text/x-python",
   "name": "python",
   "nbconvert_exporter": "python",
   "pygments_lexer": "ipython3",
   "version": "3.9.6"
  },
  "orig_nbformat": 4
 },
 "nbformat": 4,
 "nbformat_minor": 2
}
