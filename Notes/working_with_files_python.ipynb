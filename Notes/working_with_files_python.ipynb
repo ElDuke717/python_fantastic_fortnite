{
 "cells": [
  {
   "cell_type": "markdown",
   "metadata": {},
   "source": [
    "# Opening, Reading and Writing Files"
   ]
  },
  {
   "cell_type": "code",
   "execution_count": 8,
   "metadata": {},
   "outputs": [
    {
     "name": "stdout",
     "output_type": "stream",
     "text": [
      "<_io.TextIOWrapper name='../Exercise Files/exercise_files/10_01_file.txt' mode='r' encoding='UTF-8'>\n"
     ]
    },
    {
     "data": {
      "text/plain": [
       "['Explicit is better than implicit.\\n',\n",
       " 'Simple is better than complex.\\n',\n",
       " 'Complex is better than complicated.\\n',\n",
       " 'Flat is better than nested.\\n',\n",
       " 'Sparse is better than dense.\\n',\n",
       " 'Readability counts.\\n',\n",
       " \"Special cases aren't special enough to break the rules.\\n\",\n",
       " 'Although practicality beats purity.\\n',\n",
       " 'Errors should never pass silently.\\n',\n",
       " 'Unless explicitly silenced.\\n',\n",
       " 'In the face of ambiguity, refuse the temptation to guess.\\n',\n",
       " 'There should be one-- and preferably only one --obvious way to do it.\\n',\n",
       " \"Although that way may not be obvious at first unless you're Dutch.\\n\",\n",
       " 'Now is better than never.\\n',\n",
       " 'Although never is often better than *right* now.\\n',\n",
       " \"If the implementation is hard to explain, it's a bad idea.\\n\",\n",
       " 'If the implementation is easy to explain, it may be a good idea.\\n',\n",
       " \"Namespaces are one honking great idea -- let's do more of those!\"]"
      ]
     },
     "execution_count": 8,
     "metadata": {},
     "output_type": "execute_result"
    }
   ],
   "source": [
    "f = open('../Exercise Files/exercise_files/10_01_file.txt', 'r')\n",
    "print(f)\n",
    "\n",
    "f.readline()\n",
    "f.readlines()"
   ]
  },
  {
   "cell_type": "markdown",
   "metadata": {},
   "source": []
  },
  {
   "cell_type": "code",
   "execution_count": 9,
   "metadata": {},
   "outputs": [
    {
     "name": "stdout",
     "output_type": "stream",
     "text": [
      "<_io.TextIOWrapper name='../Exercise Files/exercise_files/10_01_file.txt' mode='r' encoding='UTF-8'>\n",
      "Beautiful is better than ugly.\n",
      "\n",
      "Explicit is better than implicit.\n",
      "\n",
      "Simple is better than complex.\n",
      "\n",
      "Complex is better than complicated.\n",
      "\n",
      "Flat is better than nested.\n",
      "\n",
      "Sparse is better than dense.\n",
      "\n",
      "Readability counts.\n",
      "\n",
      "Special cases aren't special enough to break the rules.\n",
      "\n",
      "Although practicality beats purity.\n",
      "\n",
      "Errors should never pass silently.\n",
      "\n",
      "Unless explicitly silenced.\n",
      "\n",
      "In the face of ambiguity, refuse the temptation to guess.\n",
      "\n",
      "There should be one-- and preferably only one --obvious way to do it.\n",
      "\n",
      "Although that way may not be obvious at first unless you're Dutch.\n",
      "\n",
      "Now is better than never.\n",
      "\n",
      "Although never is often better than *right* now.\n",
      "\n",
      "If the implementation is hard to explain, it's a bad idea.\n",
      "\n",
      "If the implementation is easy to explain, it may be a good idea.\n",
      "\n",
      "Namespaces are one honking great idea -- let's do more of those!\n"
     ]
    }
   ],
   "source": [
    "f = open('../Exercise Files/exercise_files/10_01_file.txt', 'r')\n",
    "print(f)\n",
    "# Using a for loop to iterate over the lines in the file\n",
    "for line in f.readlines():\n",
    "    print(line)\n",
    "\n",
    "# adding strip method removes the leading or trailing white space or newlines"
   ]
  },
  {
   "cell_type": "code",
   "execution_count": 10,
   "metadata": {},
   "outputs": [
    {
     "name": "stdout",
     "output_type": "stream",
     "text": [
      "<_io.TextIOWrapper name='../Exercise Files/exercise_files/10_01_file.txt' mode='r' encoding='UTF-8'>\n",
      "Beautiful is better than ugly.\n",
      "Explicit is better than implicit.\n",
      "Simple is better than complex.\n",
      "Complex is better than complicated.\n",
      "Flat is better than nested.\n",
      "Sparse is better than dense.\n",
      "Readability counts.\n",
      "Special cases aren't special enough to break the rules.\n",
      "Although practicality beats purity.\n",
      "Errors should never pass silently.\n",
      "Unless explicitly silenced.\n",
      "In the face of ambiguity, refuse the temptation to guess.\n",
      "There should be one-- and preferably only one --obvious way to do it.\n",
      "Although that way may not be obvious at first unless you're Dutch.\n",
      "Now is better than never.\n",
      "Although never is often better than *right* now.\n",
      "If the implementation is hard to explain, it's a bad idea.\n",
      "If the implementation is easy to explain, it may be a good idea.\n",
      "Namespaces are one honking great idea -- let's do more of those!\n"
     ]
    }
   ],
   "source": [
    "f = open('../Exercise Files/exercise_files/10_01_file.txt', 'r')\n",
    "print(f)\n",
    "# Using a for loop to iterate over the lines in the file\n",
    "for line in f.readlines():\n",
    "    print(line.strip())\n",
    "\n",
    "# note that all the lines are printed double-spaced.  That's because each line of the file has a newline character."
   ]
  },
  {
   "cell_type": "code",
   "execution_count": 13,
   "metadata": {},
   "outputs": [
    {
     "name": "stdout",
     "output_type": "stream",
     "text": [
      "<_io.TextIOWrapper name='../Exercise Files/exercise_files/10_01_output.txt' mode='w' encoding='UTF-8'>\n"
     ]
    }
   ],
   "source": [
    "# writing to a file\n",
    "f = open('../Exercise Files/exercise_files/10_01_output.txt', 'w')\n",
    "print(f)\n",
    "\n",
    "f.write('Line 1')\n",
    "f.write('Line 2')\n",
    "\n",
    "# writing to the file only occurs when the buffer is full or when you close the file.\n",
    "\n",
    "f.close()\n",
    "\n",
    "# Add a newline character to put them on lines. Python will overwrite any existing data."
   ]
  },
  {
   "cell_type": "code",
   "execution_count": 14,
   "metadata": {},
   "outputs": [
    {
     "name": "stdout",
     "output_type": "stream",
     "text": [
      "<_io.TextIOWrapper name='../Exercise Files/exercise_files/10_01_output.txt' mode='a' encoding='UTF-8'>\n"
     ]
    }
   ],
   "source": [
    "# writing to a file - using a to append to the existing lines\n",
    "f = open('../Exercise Files/exercise_files/10_01_output.txt', 'a')\n",
    "print(f)\n",
    "\n",
    "f.write('Line 1\\n')\n",
    "f.write('Line 2\\n')\n",
    "\n",
    "# writing to the file only occurs when the buffer is full or when you close the file.\n",
    "\n",
    "f.close()\n",
    "\n",
    "# Add a newline character to put them on lines. Python will overwrite any existing data."
   ]
  },
  {
   "cell_type": "code",
   "execution_count": 15,
   "metadata": {},
   "outputs": [],
   "source": [
    "# Writing a poem to a file\n",
    "poem = \"\"\"\n",
    "In a world of fluffy tails and gentle eyes,\n",
    "The Leonberger stands majestic, reaching the skies.\n",
    "A gentle giant with a heart so kind,\n",
    "A loyal companion, so rare to find.\n",
    "\n",
    "Golden mane flowing, a sight to behold,\n",
    "With every stride, tales of bravery unfold.\n",
    "Though they might seem fierce, they're gentle inside,\n",
    "With a Leonberger by your side, you beam with pride.\n",
    "\n",
    "Guardian of homes, friend to the small,\n",
    "This dog's love and loyalty stands tall.\n",
    "Through fields they run, with grace and might,\n",
    "Leonbergers truly are a delightful sight.\n",
    "\"\"\"\n",
    "\n",
    "with open(\"leonberger_poem.txt\", \"w\") as file:\n",
    "    file.write(poem)"
   ]
  },
  {
   "cell_type": "code",
   "execution_count": 16,
   "metadata": {},
   "outputs": [],
   "source": [
    "labradoodle_poem = \"\"\"\n",
    "\\nIn a land of curls and playful bounds,\n",
    "The Labradoodle joyfully surrounds.\n",
    "A mix of charm, with poodle and lab,\n",
    "Their cheerful antics are a joy to grab.\n",
    "\n",
    "Soft as clouds with a heart that's gold,\n",
    "Their spirited tales, timelessly retold.\n",
    "Waves of fur, in colors so diverse,\n",
    "Every moment with them, feels like a verse.\n",
    "\n",
    "Eyes that sparkle with mischief and glee,\n",
    "Bounding by the shore, wild and free.\n",
    "Affectionate, gentle, smart, and astute,\n",
    "The Labradoodle's love is absolute.\n",
    "\n",
    "Friend to many, with a zest for life,\n",
    "Their presence diminishes any strife.\n",
    "In the world of dogs, one thing's understood,\n",
    "Nothing compares to a Labradoodle's childhood.\n",
    "\"\"\"\n",
    "\n",
    "with open(\"leonberger_poem.txt\", \"a\") as file:\n",
    "    file.write(labradoodle_poem)\n"
   ]
  },
  {
   "cell_type": "code",
   "execution_count": 17,
   "metadata": {},
   "outputs": [
    {
     "name": "stdout",
     "output_type": "stream",
     "text": [
      "<_io.TextIOWrapper name='10_01_output.txt' mode='a' encoding='UTF-8'>\n"
     ]
    }
   ],
   "source": [
    "# it's best practice to close your files when you're done with them.\n",
    "\n",
    "with open('10_01_output.txt', 'a') as f:\n",
    "    f.write('some stuff\\n')\n",
    "    f.write('some other stuff\\n')\n",
    "\n",
    "print(f)"
   ]
  }
 ],
 "metadata": {
  "kernelspec": {
   "display_name": "env",
   "language": "python",
   "name": "python3"
  },
  "language_info": {
   "codemirror_mode": {
    "name": "ipython",
    "version": 3
   },
   "file_extension": ".py",
   "mimetype": "text/x-python",
   "name": "python",
   "nbconvert_exporter": "python",
   "pygments_lexer": "ipython3",
   "version": "3.9.6"
  },
  "orig_nbformat": 4
 },
 "nbformat": 4,
 "nbformat_minor": 2
}
