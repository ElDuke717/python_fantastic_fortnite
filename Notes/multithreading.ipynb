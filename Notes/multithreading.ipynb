{
 "cells": [
  {
   "cell_type": "markdown",
   "metadata": {},
   "source": [
    "Multithreading is a way to run multiple threads (smaller units of a program) in parallel. In Python, the `threading` module provides a way to create and manage threads. Note that because of the Global Interpreter Lock (GIL) in CPython (the standard and most widely-used Python interpreter), true parallel execution of Python code may not be achieved with threads. However, they are still useful for I/O-bound tasks and for achieving concurrency.\n",
    "\n",
    "Here is a simple example that demonstrates how to use the `threading` module to run two functions in parallel.\n",
    "\n",
    "```python\n",
    "import threading\n",
    "import time\n",
    "\n",
    "# Function to print numbers from 0 to 9\n",
    "def print_numbers():\n",
    "    for i in range(10):\n",
    "        time.sleep(1)  # Simulate a time-consuming task\n",
    "        print(i)\n",
    "\n",
    "# Function to print letters from 'a' to 'j'\n",
    "def print_letters():\n",
    "    for letter in 'abcdefghij':\n",
    "        time.sleep(1.5)  # Simulate a time-consuming task\n",
    "        print(letter)\n",
    "\n",
    "# Create two threads\n",
    "thread1 = threading.Thread(target=print_numbers)\n",
    "thread2 = threading.Thread(target=print_letters)\n",
    "\n",
    "# Start the threads\n",
    "thread1.start()\n",
    "thread2.start()\n",
    "\n",
    "# Wait for both threads to finish\n",
    "thread1.join()\n",
    "thread2.join()\n",
    "\n",
    "print(\"Both threads are done!\")\n",
    "```\n",
    "\n",
    "In this example, we define two functions: `print_numbers()` and `print_letters()`. Each function prints 10 items, pausing for 1 or 1.5 seconds between each print statement to simulate some time-consuming task.\n",
    "\n",
    "We then create two threads, one for each function, using `threading.Thread(target=function_name)`. Calling `start()` on a thread object starts the execution of the function in a new thread. The `join()` method makes sure the main program waits for these threads to finish execution before moving on.\n",
    "\n",
    "Run this code, and you'll see numbers and letters being printed interchangeably, demonstrating that the two functions are running concurrently."
   ]
  },
  {
   "cell_type": "code",
   "execution_count": 1,
   "metadata": {},
   "outputs": [
    {
     "name": "stdout",
     "output_type": "stream",
     "text": [
      "0\n",
      "a\n",
      "1\n",
      "b\n",
      "2\n",
      "3\n",
      "c\n",
      "4\n",
      "5\n",
      "d\n",
      "6\n",
      "e\n",
      "7\n",
      "f\n",
      "8\n",
      "9\n",
      "g\n",
      "h\n",
      "i\n",
      "j\n",
      "Both threads are done!\n"
     ]
    }
   ],
   "source": [
    "import threading\n",
    "import time\n",
    "\n",
    "# Function to print numbers from 0 to 9\n",
    "def print_numbers():\n",
    "    for i in range(10):\n",
    "        time.sleep(1)  # Simulate a time-consuming task\n",
    "        print(i)\n",
    "\n",
    "# Function to print letters from 'a' to 'j'\n",
    "def print_letters():\n",
    "    for letter in 'abcdefghij':\n",
    "        time.sleep(1.5)  # Simulate a time-consuming task\n",
    "        print(letter)\n",
    "\n",
    "# Create two threads\n",
    "thread1 = threading.Thread(target=print_numbers)\n",
    "thread2 = threading.Thread(target=print_letters)\n",
    "\n",
    "# Start the threads\n",
    "thread1.start()\n",
    "thread2.start()\n",
    "\n",
    "# Wait for both threads to finish\n",
    "thread1.join()\n",
    "thread2.join()\n",
    "\n",
    "print(\"Both threads are done!\")\n"
   ]
  },
  {
   "cell_type": "code",
   "execution_count": 2,
   "metadata": {},
   "outputs": [
    {
     "data": {
      "text/plain": [
       "[0, 1, 4, 9, 16]"
      ]
     },
     "execution_count": 2,
     "metadata": {},
     "output_type": "execute_result"
    }
   ],
   "source": [
    "import threading\n",
    "import time\n",
    "\n",
    "def longSquare(num):\n",
    "    time.sleep(1) # waits for a time interval before returning calculation\n",
    "    return num**2\n",
    "\n",
    "[longSquare(n) for n in range(0, 5)]"
   ]
  },
  {
   "cell_type": "code",
   "execution_count": 6,
   "metadata": {},
   "outputs": [
    {
     "name": "stdout",
     "output_type": "stream",
     "text": [
      "{2: 4, 1: 1}\n"
     ]
    }
   ],
   "source": [
    "import threading\n",
    "import time\n",
    "\n",
    "\n",
    "\n",
    "def longSquare(num, results):\n",
    "    time.sleep(1) # waits for a time interval before returning calculation\n",
    "    results[num] = num**2\n",
    "\n",
    "results = {}\n",
    "t1  = threading.Thread(target=longSquare, args=(1,results))\n",
    "t2  = threading.Thread(target=longSquare, args=(2,results))\n",
    "\n",
    "t1.start()\n",
    "t2.start()\n",
    "\n",
    "t1.join()\n",
    "t2.join()\n",
    "\n",
    "print(results)"
   ]
  },
  {
   "cell_type": "markdown",
   "metadata": {},
   "source": [
    "The code demonstrates basic multithreading in Python using the `threading` module. It aims to calculate the square of two numbers asynchronously using two separate threads. Specifically, it aims to show how to:\n",
    "\n",
    "1. Define a function (`longSquare`) that will run in its own thread. This function takes a number (`num`) and a shared dictionary (`results`).\n",
    "  \n",
    "2. Create two thread objects (`t1` and `t2`) targeting that function and passing different arguments (`1` and `2`, along with the shared `results` dictionary).\n",
    "\n",
    "3. Start the threads with `start()` method. This triggers the `longSquare` function to run in parallel threads.\n",
    "\n",
    "4. Use `join()` to wait for both threads to complete their tasks before moving on. This ensures that the `print(results)` line will only execute after both threads have finished.\n",
    "\n",
    "5. Collect the results in a shared dictionary (`results`). \n",
    "\n",
    "\n",
    "Overall, this demonstrates basic use of Python's `threading` module to execute functions asynchronously, and how to collect results from those threads using shared mutable objects (like dictionaries)."
   ]
  },
  {
   "cell_type": "code",
   "execution_count": 8,
   "metadata": {},
   "outputs": [
    {
     "name": "stdout",
     "output_type": "stream",
     "text": [
      "{0: 0, 61: 3721, 29: 841, 23: 529, 30: 900, 31: 961, 2: 4, 59: 3481, 37: 1369, 51: 2601, 33: 1089, 54: 2916, 36: 1296, 58: 3364, 47: 2209, 52: 2704, 55: 3025, 57: 3249, 22: 484, 62: 3844, 63: 3969, 50: 2500, 56: 3136, 49: 2401, 41: 1681, 53: 2809, 48: 2304, 32: 1024, 35: 1225, 60: 3600, 17: 289, 21: 441, 1: 1, 45: 2025, 46: 2116, 78: 6084, 69: 4761, 73: 5329, 13: 169, 3: 9, 88: 7744, 26: 676, 25: 625, 40: 1600, 79: 6241, 44: 1936, 10: 100, 15: 225, 14: 196, 18: 324, 24: 576, 38: 1444, 28: 784, 7: 49, 20: 400, 39: 1521, 95: 9025, 19: 361, 4: 16, 34: 1156, 43: 1849, 12: 144, 27: 729, 16: 256, 65: 4225, 9: 81, 8: 64, 6: 36, 75: 5625, 42: 1764, 11: 121, 5: 25, 66: 4356, 71: 5041, 74: 5476, 67: 4489, 80: 6400, 76: 5776, 68: 4624, 64: 4096, 70: 4900, 72: 5184, 77: 5929, 81: 6561, 85: 7225, 83: 6889, 82: 6724, 89: 7921, 86: 7396, 90: 8100, 87: 7569, 92: 8464, 93: 8649, 97: 9409, 98: 9604, 99: 9801, 91: 8281, 84: 7056, 96: 9216, 94: 8836}\n"
     ]
    }
   ],
   "source": [
    "import threading\n",
    "import time\n",
    "\n",
    "\n",
    "def longSquare(num, results):\n",
    "    time.sleep(1)\n",
    "    results[num] = num**2\n",
    "\n",
    "results = {}\n",
    "\n",
    "threads = [threading.Thread(target=longSquare, args=(n, results)) for n in range(0, 100)]  # the square brackets are list comprehension in Python.  It is a concise way to generate lists.\n",
    "\n",
    "[t.start() for t in threads]\n",
    "[t.join() for t in threads]\n",
    "print(results)"
   ]
  },
  {
   "cell_type": "markdown",
   "metadata": {},
   "source": [
    "This code demonstrates the use of Python's threading library to concurrently compute the squares of numbers from 0 to 99 and store them in a shared dictionary called `results`.\n",
    "\n",
    "Here's a line-by-line explanation:\n",
    "\n",
    "1. `def longSquare(num, results):` defines a function that takes a number `num` and a dictionary `results` as arguments.\n",
    "2. `time.sleep(1)` simulates a delay of 1 second to mimic a \"long-running\" task.\n",
    "3. `results[num] = num**2` computes the square of `num` and stores it in the `results` dictionary using `num` as the key.\n",
    "\n",
    "4. `results = {}` initializes an empty dictionary to hold the results.\n",
    "\n",
    "5. `threads = [threading.Thread(target=longSquare, args=(n, results)) for n in range(0, 100)]` uses list comprehension to create 100 threads. Each thread will execute the `longSquare` function with a unique value of `n` and the shared `results` dictionary as arguments.\n",
    "\n",
    "6. `[t.start() for t in threads]` starts all the threads. This line uses list comprehension as a shorthand to call the `start()` method on each thread object in the `threads` list.\n",
    "\n",
    "7. `[t.join() for t in threads]` waits for all the threads to complete their execution. Again, list comprehension is used to call the `join()` method on each thread.\n",
    "\n",
    "8. `print(results)` prints the `results` dictionary, which now should contain squares of numbers from 0 to 99 as key-value pairs.\n",
    "\n",
    "\n",
    "Also, it's worth mentioning that using a shared mutable object (`results` dictionary in this case) across multiple threads can lead to data races. For a production-level code, consider using locks or other synchronization mechanisms."
   ]
  },
  {
   "cell_type": "code",
   "execution_count": 10,
   "metadata": {},
   "outputs": [
    {
     "name": "stdout",
     "output_type": "stream",
     "text": [
      "[<Thread(Thread-314, initial)>, <Thread(Thread-315, initial)>, <Thread(Thread-316, initial)>, <Thread(Thread-317, initial)>, <Thread(Thread-318, initial)>, <Thread(Thread-319, initial)>, <Thread(Thread-320, initial)>, <Thread(Thread-321, initial)>, <Thread(Thread-322, initial)>, <Thread(Thread-323, initial)>, <Thread(Thread-324, initial)>, <Thread(Thread-325, initial)>, <Thread(Thread-326, initial)>, <Thread(Thread-327, initial)>, <Thread(Thread-328, initial)>, <Thread(Thread-329, initial)>, <Thread(Thread-330, initial)>, <Thread(Thread-331, initial)>, <Thread(Thread-332, initial)>, <Thread(Thread-333, initial)>, <Thread(Thread-334, initial)>, <Thread(Thread-335, initial)>, <Thread(Thread-336, initial)>, <Thread(Thread-337, initial)>, <Thread(Thread-338, initial)>, <Thread(Thread-339, initial)>, <Thread(Thread-340, initial)>, <Thread(Thread-341, initial)>, <Thread(Thread-342, initial)>, <Thread(Thread-343, initial)>, <Thread(Thread-344, initial)>, <Thread(Thread-345, initial)>, <Thread(Thread-346, initial)>, <Thread(Thread-347, initial)>, <Thread(Thread-348, initial)>, <Thread(Thread-349, initial)>, <Thread(Thread-350, initial)>, <Thread(Thread-351, initial)>, <Thread(Thread-352, initial)>, <Thread(Thread-353, initial)>, <Thread(Thread-354, initial)>, <Thread(Thread-355, initial)>, <Thread(Thread-356, initial)>, <Thread(Thread-357, initial)>, <Thread(Thread-358, initial)>, <Thread(Thread-359, initial)>, <Thread(Thread-360, initial)>, <Thread(Thread-361, initial)>, <Thread(Thread-362, initial)>, <Thread(Thread-363, initial)>, <Thread(Thread-364, initial)>, <Thread(Thread-365, initial)>, <Thread(Thread-366, initial)>, <Thread(Thread-367, initial)>, <Thread(Thread-368, initial)>, <Thread(Thread-369, initial)>, <Thread(Thread-370, initial)>, <Thread(Thread-371, initial)>, <Thread(Thread-372, initial)>, <Thread(Thread-373, initial)>, <Thread(Thread-374, initial)>, <Thread(Thread-375, initial)>, <Thread(Thread-376, initial)>, <Thread(Thread-377, initial)>, <Thread(Thread-378, initial)>, <Thread(Thread-379, initial)>, <Thread(Thread-380, initial)>, <Thread(Thread-381, initial)>, <Thread(Thread-382, initial)>, <Thread(Thread-383, initial)>, <Thread(Thread-384, initial)>, <Thread(Thread-385, initial)>, <Thread(Thread-386, initial)>, <Thread(Thread-387, initial)>, <Thread(Thread-388, initial)>, <Thread(Thread-389, initial)>, <Thread(Thread-390, initial)>, <Thread(Thread-391, initial)>, <Thread(Thread-392, initial)>, <Thread(Thread-393, initial)>, <Thread(Thread-394, initial)>, <Thread(Thread-395, initial)>, <Thread(Thread-396, initial)>, <Thread(Thread-397, initial)>, <Thread(Thread-398, initial)>, <Thread(Thread-399, initial)>, <Thread(Thread-400, initial)>, <Thread(Thread-401, initial)>, <Thread(Thread-402, initial)>, <Thread(Thread-403, initial)>, <Thread(Thread-404, initial)>, <Thread(Thread-405, initial)>, <Thread(Thread-406, initial)>, <Thread(Thread-407, initial)>, <Thread(Thread-408, initial)>, <Thread(Thread-409, initial)>, <Thread(Thread-410, initial)>, <Thread(Thread-411, initial)>, <Thread(Thread-412, initial)>, <Thread(Thread-413, initial)>]\n"
     ]
    }
   ],
   "source": [
    "threads = [threading.Thread(target=longSquare, args=(n, results)) for n in range(0, 100)]\n",
    "\n",
    "print(threads)"
   ]
  }
 ],
 "metadata": {
  "kernelspec": {
   "display_name": "env",
   "language": "python",
   "name": "python3"
  },
  "language_info": {
   "codemirror_mode": {
    "name": "ipython",
    "version": 3
   },
   "file_extension": ".py",
   "mimetype": "text/x-python",
   "name": "python",
   "nbconvert_exporter": "python",
   "pygments_lexer": "ipython3",
   "version": "3.9.6"
  },
  "orig_nbformat": 4
 },
 "nbformat": 4,
 "nbformat_minor": 2
}
