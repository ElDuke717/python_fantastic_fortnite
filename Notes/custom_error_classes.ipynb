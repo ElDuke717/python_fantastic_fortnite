{
 "cells": [
  {
   "cell_type": "markdown",
   "metadata": {},
   "source": [
    "In Python, you can define custom error classes to represent exceptions that are specific to your application's domain or logic. Custom error classes make it easier to understand, debug, and handle errors in a meaningful way. They are typically used for raising and catching exceptions that aren't adequately described by Python's built-in exception types.\n",
    "\n",
    "To define a custom error class, you can subclass the built-in `Exception` class or any of its derived classes. You can also add an `__init__` method to your custom exception class to pass additional information about the error.\n",
    "\n",
    "### Basic Custom Error Class\n",
    "\n",
    "Here's the simplest way to create a custom error class:\n",
    "\n",
    "```python\n",
    "class MyCustomError(Exception):\n",
    "    pass\n",
    "```\n",
    "\n",
    "You can raise this exception using the `raise` keyword, just like you would with a built-in exception:\n",
    "\n",
    "```python\n",
    "raise MyCustomError(\"This is a custom error.\")\n",
    "```\n",
    "\n",
    "### Custom Error Class with Additional Information\n",
    "\n",
    "You can extend the functionality of your custom exception class by overriding its `__init__` method:\n",
    "\n",
    "```python\n",
    "class MyCustomErrorWithAttributes(Exception):\n",
    "    def __init__(self, message, code):\n",
    "        super().__init__(message)\n",
    "        self.code = code\n",
    "```\n",
    "\n",
    "This allows you to associate additional information (in this case, a `code`) with the exception:\n",
    "\n",
    "```python\n",
    "try:\n",
    "    raise MyCustomErrorWithAttributes(\"An error occurred\", 500)\n",
    "except MyCustomErrorWithAttributes as e:\n",
    "    print(f\"Caught an exception: {e}, Code: {e.code}\")\n",
    "```\n",
    "\n",
    "### Using Custom Error Classes\n",
    "\n",
    "Here's how you might use a custom error class in practice:\n",
    "\n",
    "```python\n",
    "class DivisionByZeroError(Exception):\n",
    "    def __init__(self, message=\"You can't divide by zero!\"):\n",
    "        super().__init__(message)\n",
    "\n",
    "def divide(a, b):\n",
    "    if b == 0:\n",
    "        raise DivisionByZeroError()\n",
    "    return a / b\n",
    "\n",
    "try:\n",
    "    result = divide(1, 0)\n",
    "except DivisionByZeroError as e:\n",
    "    print(e)\n",
    "```\n",
    "\n",
    "In this example, a `DivisionByZeroError` is raised when an attempt is made to divide by zero. This custom error makes it clear what kind of problem occurred, as opposed to a generic `Exception`.\n",
    "\n",
    "Custom error classes make your code more self-explanatory and easier to maintain. They also allow you to separate the concerns of what to do when something goes wrong (`try`/`except`) from the logic of why it went wrong (the custom exception class)."
   ]
  },
  {
   "cell_type": "code",
   "execution_count": 1,
   "metadata": {},
   "outputs": [
    {
     "name": "stdout",
     "output_type": "stream",
     "text": [
      "ArithmeticError\n"
     ]
    }
   ],
   "source": [
    "try:\n",
    "    1/0\n",
    "except ArithmeticError:\n",
    "    print('ArithmeticError')\n",
    "except Exception:\n",
    "    print('Exception')\n",
    "except DivisionByZeroError:\n",
    "    print('DivisionByZero')"
   ]
  },
  {
   "cell_type": "markdown",
   "metadata": {},
   "source": [
    "In Python, the order in which `except` clauses are checked is important. When an exception is raised, Python will go through the `except` clauses in the order they appear, and the first one that matches the type of the exception being raised will be executed.\n",
    "\n",
    "In your example, you're trying to divide by zero, which raises a `ZeroDivisionError`. The `ZeroDivisionError` class is a subclass of `ArithmeticError`. The first `except` clause that matches is `except ArithmeticError`, so the code under that clause gets executed, printing 'ArithmeticError'.\n",
    "\n",
    "Here is the class hierarchy for reference:\n",
    "\n",
    "- `BaseException`\n",
    "  - `Exception`\n",
    "    - `ArithmeticError`\n",
    "      - `ZeroDivisionError`\n",
    "\n",
    "Because `ArithmeticError` appears before `DivisionByZeroError` (which, I assume, was meant to represent `ZeroDivisionError`) in the `try`/`except` block, the `ArithmeticError` block will catch the exception, and the `DivisionByZeroError` block will never be reached.\n",
    "\n",
    "If you want to catch `ZeroDivisionError` specifically, you should rearrange the `except` clauses like this:\n",
    "\n",
    "```python\n",
    "try:\n",
    "    1/0\n",
    "except ZeroDivisionError:  # Now this is the first in line\n",
    "    print('DivisionByZero')\n",
    "except ArithmeticError:\n",
    "    print('ArithmeticError')\n",
    "except Exception:\n",
    "    print('Exception')\n",
    "```\n",
    "\n",
    "This will output 'DivisionByZero', as you intended."
   ]
  }
 ],
 "metadata": {
  "kernelspec": {
   "display_name": "env",
   "language": "python",
   "name": "python3"
  },
  "language_info": {
   "codemirror_mode": {
    "name": "ipython",
    "version": 3
   },
   "file_extension": ".py",
   "mimetype": "text/x-python",
   "name": "python",
   "nbconvert_exporter": "python",
   "pygments_lexer": "ipython3",
   "version": "3.9.6"
  },
  "orig_nbformat": 4
 },
 "nbformat": 4,
 "nbformat_minor": 2
}
