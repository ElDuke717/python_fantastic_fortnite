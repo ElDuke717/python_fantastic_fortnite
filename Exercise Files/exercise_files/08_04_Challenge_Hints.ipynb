{
 "cells": [
  {
   "cell_type": "markdown",
   "id": "5493bdf7",
   "metadata": {},
   "source": [
    "## Message Exceptions\n",
    "\n",
    "The SaveMessages class now has limited memory and should only be able to hold a maximum of 10 messages at once.\n",
    "\n",
    "This challenge has three parts, outlined in comments below. \n",
    "\n",
    "**\\# 1. Finish creating the TooManyMessagesException class**\n",
    "\n",
    "Fill in the TooManyMessagesException class. Add a custom message!\n",
    "\n",
    "**\\# 2. Raise a TooManyMessagesException exception here**\n",
    "\n",
    "Make sure that the SaveMessages class doesn't get over-full and raises an Exception if the max_messages limit is reached.\n",
    "\n",
    "**\\# 3. Catch a TooManyMessagesException and print the messages**\n",
    "\n",
    "Modify this code so that, if an exception is raised when the message is sent, the messages are printed out (emptying the message list) and the message is re-sent. Make sure to print out any remaining messages at the end!\n"
   ]
  },
  {
   "cell_type": "markdown",
   "id": "7e61d190",
   "metadata": {},
   "source": [
    "### Challenge Hints!\n",
    "\n",
    "**Hint 1:** Remember to make your TooManyMessagesException extend the Exception class"
   ]
  },
  {
   "cell_type": "code",
   "execution_count": 1,
   "id": "0a0528dc",
   "metadata": {},
   "outputs": [],
   "source": [
    "class TooManyMessagesException(Exception):\n",
    "    def __init__(self, message=\"This is too many messages!\"):\n",
    "        super().__init__(message)\n",
    "    "
   ]
  },
  {
   "cell_type": "markdown",
   "id": "32f67063",
   "metadata": {},
   "source": [
    "**Hint 2:** You can call the initialization function in the parent class using \"super\":\n",
    "\n"
   ]
  },
  {
   "cell_type": "code",
   "execution_count": 2,
   "id": "e251ff52",
   "metadata": {},
   "outputs": [
    {
     "ename": "RuntimeError",
     "evalue": "super(): no arguments",
     "output_type": "error",
     "traceback": [
      "\u001b[0;31m---------------------------------------------------------------------------\u001b[0m",
      "\u001b[0;31mRuntimeError\u001b[0m                              Traceback (most recent call last)",
      "Cell \u001b[0;32mIn[2], line 1\u001b[0m\n\u001b[0;32m----> 1\u001b[0m \u001b[39msuper\u001b[39;49m()\u001b[39m.\u001b[39m\u001b[39m__init__\u001b[39m(\u001b[39m\"\u001b[39m\u001b[39mSome string argument, like a message or something\u001b[39m\u001b[39m\"\u001b[39m)\n",
      "\u001b[0;31mRuntimeError\u001b[0m: super(): no arguments"
     ]
    }
   ],
   "source": [
    "super().__init__(\"Some string argument, like a message or something\")"
   ]
  },
  {
   "cell_type": "markdown",
   "id": "db53f14d",
   "metadata": {},
   "source": [
    "**Hint 3:** Use a try / except to send messages and re-send messages on failure:"
   ]
  },
  {
   "cell_type": "code",
   "execution_count": null,
   "id": "f4f19c39",
   "metadata": {},
   "outputs": [],
   "source": [
    "message = 'This is another message'\n",
    "try:\n",
    "    sender.send(message)\n",
    "except:\n",
    "    listener.printMessages()\n",
    "    sender.send(message)"
   ]
  },
  {
   "cell_type": "code",
   "execution_count": 5,
   "id": "4261d50d",
   "metadata": {},
   "outputs": [
    {
     "name": "stdout",
     "output_type": "stream",
     "text": [
      "Too many messages received!\n",
      "Message: \"This is message 0\" Time: 09-06-2023 14:34:43\n",
      "Message: \"This is message 1\" Time: 09-06-2023 14:34:43\n",
      "Message: \"This is message 2\" Time: 09-06-2023 14:34:43\n",
      "Message: \"This is message 3\" Time: 09-06-2023 14:34:43\n",
      "Message: \"This is message 4\" Time: 09-06-2023 14:34:43\n",
      "Message: \"This is message 5\" Time: 09-06-2023 14:34:43\n",
      "Message: \"This is message 6\" Time: 09-06-2023 14:34:43\n",
      "Message: \"This is message 7\" Time: 09-06-2023 14:34:43\n",
      "Message: \"This is message 8\" Time: 09-06-2023 14:34:43\n",
      "Message: \"This is message 9\" Time: 09-06-2023 14:34:43\n"
     ]
    }
   ],
   "source": [
    "from datetime import datetime\n",
    "\n",
    "def getCurrentTime():\n",
    "    return datetime.now().strftime(\"%m-%d-%Y %H:%M:%S\")\n",
    "\n",
    "\n",
    "class Messenger:\n",
    "    def __init__(self, listeners=[]):\n",
    "        self.listeners = listeners\n",
    "    \n",
    "    def send(self, message):\n",
    "        for listener in self.listeners:\n",
    "            listener.receive(message)\n",
    "\n",
    "    def receive(self, message):\n",
    "        pass\n",
    "\n",
    "# 1. Finish creating the TooManyMessagesException class\n",
    "class TooManyMessagesException(Exception):\n",
    "    def __init__(self, message=\"This is too many messages!\"):\n",
    "        super().__init__(message)\n",
    "\n",
    "class SaveMessages(Messenger):\n",
    "    def __init__(self, listeners=[]):\n",
    "        super().__init__(listeners)\n",
    "        self.messages = []\n",
    "        self.max_messages = 10\n",
    "        \n",
    "    def receive(self, message):\n",
    "        if len(self.messages) >= self.max_messages:\n",
    "            # Raise a TooManyMessagesException exception here\n",
    "            raise TooManyMessagesException(\"Too many messages received!\")\n",
    "        self.messages.append({'message': message, 'time': getCurrentTime()})\n",
    "        \n",
    "    def printMessages(self):\n",
    "        for m in self.messages:\n",
    "            print(f'Message: \"{m[\"message\"]}\" Time: {m[\"time\"]}')\n",
    "        self.messages = []\n",
    "\n",
    "listener = SaveMessages()\n",
    "sender = Messenger([listener])\n",
    "\n",
    "# 3. Catch a TooManyMessagesException and print the messages \n",
    "\n",
    "try:\n",
    "    for i in range(0, 20):\n",
    "        sender.send(f'This is message {i}')\n",
    "except TooManyMessagesException as e:\n",
    "    print(e)\n",
    "    listener.printMessages()"
   ]
  },
  {
   "cell_type": "code",
   "execution_count": null,
   "id": "7952a82a",
   "metadata": {},
   "outputs": [],
   "source": [
    "# Import the datetime class from the datetime module\n",
    "from datetime import datetime\n",
    "\n",
    "# Function to get the current time in a specific format\n",
    "def getCurrentTime():\n",
    "    return datetime.now().strftime(\"%m-%d-%Y %H:%M:%S\")\n",
    "\n",
    "# Define the Messenger class\n",
    "class Messenger:\n",
    "    # Constructor for Messenger class\n",
    "    def __init__(self, listeners=[]):\n",
    "        self.listeners = listeners\n",
    "    \n",
    "    # Method to send messages to all listeners\n",
    "    def send(self, message):\n",
    "        for listener in self.listeners:\n",
    "            listener.receive(message)\n",
    "\n",
    "    # Placeholder method to be overridden by subclasses\n",
    "    def receive(self, message):\n",
    "        pass\n",
    "\n",
    "# Define custom exception class for too many messages\n",
    "class TooManyMessagesException(Exception):\n",
    "    # Constructor for the custom exception\n",
    "    def __init__(self, message=\"This is too many messages!\"):\n",
    "        super().__init__(message)\n",
    "\n",
    "# Define the SaveMessages class, inheriting from Messenger\n",
    "class SaveMessages(Messenger):\n",
    "    # Constructor for SaveMessages class\n",
    "    def __init__(self, listeners=[]):\n",
    "        super().__init__(listeners)\n",
    "        self.messages = []  # List to store messages\n",
    "        self.max_messages = 10  # Maximum number of messages allowed\n",
    "    \n",
    "    # Method to handle received messages\n",
    "    def receive(self, message):\n",
    "        # Check if the limit of stored messages is reached\n",
    "        if len(self.messages) >= self.max_messages:\n",
    "            # Raise custom exception if limit reached\n",
    "            raise TooManyMessagesException(\"Too many messages received!\")\n",
    "        \n",
    "        # Append the received message and its time to the messages list\n",
    "        self.messages.append({'message': message, 'time': getCurrentTime()})\n",
    "        \n",
    "    # Method to print all stored messages and clear the list\n",
    "    def printMessages(self):\n",
    "        for m in self.messages:\n"
   ]
  },
  {
   "cell_type": "code",
   "execution_count": 3,
   "id": "aa1f84f0",
   "metadata": {},
   "outputs": [
    {
     "ename": "NameError",
     "evalue": "name 'SaveMessages' is not defined",
     "output_type": "error",
     "traceback": [
      "\u001b[0;31m---------------------------------------------------------------------------\u001b[0m",
      "\u001b[0;31mNameError\u001b[0m                                 Traceback (most recent call last)",
      "Cell \u001b[0;32mIn[3], line 1\u001b[0m\n\u001b[0;32m----> 1\u001b[0m listener \u001b[39m=\u001b[39m SaveMessages()\n\u001b[1;32m      2\u001b[0m sender \u001b[39m=\u001b[39m Messenger([listener])\n",
      "\u001b[0;31mNameError\u001b[0m: name 'SaveMessages' is not defined"
     ]
    }
   ],
   "source": [
    "listener = SaveMessages()\n",
    "sender = Messenger([listener])"
   ]
  },
  {
   "cell_type": "code",
   "execution_count": null,
   "id": "e80893e9",
   "metadata": {},
   "outputs": [],
   "source": [
    "# 3. Catch a TooManyMessagesException and print the messages \n",
    "for i in range(0, 20):\n",
    "    sender.send(f'This is message {i}')"
   ]
  },
  {
   "cell_type": "markdown",
   "id": "e4f0988b",
   "metadata": {},
   "source": [
    "Certainly, let's break down the code line by line to understand what it's doing.\n",
    "\n",
    "1. `from datetime import datetime`: Import the `datetime` class from the `datetime` module, which provides functionality to work with date and time.\n",
    "\n",
    "2. `def getCurrentTime():`: Define a function named `getCurrentTime`.\n",
    "\n",
    "3. `    return datetime.now().strftime(\"%m-%d-%Y %H:%M:%S\")`: Inside this function, get the current date and time using `datetime.now()`, and then convert it to a string in the specified format (MM-DD-YYYY HH:MM:SS).\n",
    "\n",
    "5. `class Messenger:`: Define a class called `Messenger`.\n",
    "\n",
    "6. `    def __init__(self, listeners=[]):`: Initialize the `Messenger` class, accepting an optional `listeners` argument with a default value of an empty list.\n",
    "\n",
    "7. `        self.listeners = listeners`: Assign the `listeners` argument to the `listeners` attribute of the class.\n",
    "\n",
    "9. `    def send(self, message):`: Define a method `send` that takes a message as an argument.\n",
    "\n",
    "10. `        for listener in self.listeners:`: Loop over each `listener` in `self.listeners`.\n",
    "\n",
    "11. `            listener.receive(message)`: Call the `receive` method of each `listener`, passing the `message` as an argument.\n",
    "\n",
    "13. `    def receive(self, message):`: Define a placeholder `receive` method that does nothing (but could be overridden in subclasses).\n",
    "\n",
    "14. `        pass`: Do nothing for now.\n",
    "\n",
    "16. `class TooManyMessagesException(Exception):`: Define a custom exception class named `TooManyMessagesException`, inheriting from Python's built-in `Exception` class.\n",
    "\n",
    "17. `    def __init__(self, message=\"This is too many messages!\"):`: Initialize it with an optional message.\n",
    "\n",
    "18. `        super().__init__(message)`: Call the parent class (`Exception`) constructor with the provided message.\n",
    "\n",
    "20. `class SaveMessages(Messenger):`: Define a class `SaveMessages` that inherits from `Messenger`.\n",
    "\n",
    "21. `    def __init__(self, listeners=[]):`: Initialize `SaveMessages` with an optional `listeners` argument.\n",
    "\n",
    "22. `        super().__init__(listeners)`: Call the parent class (`Messenger`) constructor with the `listeners`.\n",
    "\n",
    "23. `        self.messages = []`: Initialize an empty list to store messages.\n",
    "\n",
    "24. `        self.max_messages = 10`: Set the maximum number of messages allowed to 10.\n",
    "\n",
    "26. `    def receive(self, message):`: Define a `receive` method to handle incoming messages.\n",
    "\n",
    "27. `        if len(self.messages) >= self.max_messages:`: Check if the number of stored messages has reached the maximum.\n",
    "\n",
    "28. `            raise TooManyMessagesException(\"Too many messages received!\")`: If so, raise the custom `TooManyMessagesException`.\n",
    "\n",
    "29. `        self.messages.append({'message': message, 'time': getCurrentTime()})`: Otherwise, append the message and its timestamp to `self.messages`.\n",
    "\n",
    "31. `    def printMessages(self):`: Define a method to print all stored messages.\n",
    "\n",
    "32. `        for m in self.messages:`: Loop through each stored message.\n",
    "\n",
    "33. `            print(f'Message: \"{m[\"message\"]}\" Time: {m[\"time\"]})`: Print the message and its timestamp.\n",
    "\n",
    "34. `        self.messages = []`: Clear the stored messages.\n",
    "\n",
    "36. `listener = SaveMessages()`: Create an instance of `SaveMessages`.\n",
    "\n",
    "37. `sender = Messenger([listener])`: Create an instance of `Messenger` with the `SaveMessages` instance as a listener.\n",
    "\n",
    "39. `try:`: Start a try-except block to catch exceptions.\n",
    "\n",
    "40. `    for i in range(0, 20):`: Loop from 0 to 19.\n",
    "\n",
    "41. `        sender.send(f'This is message {i}')`: Send a message for each iteration.\n",
    "\n",
    "43. `except TooManyMessagesException as e:`: Catch the `TooManyMessagesException` if it's raised.\n",
    "\n",
    "44. `    print(e)`: Print the message associated with the exception.\n",
    "\n",
    "45. `    listener.printMessages()`: Call `printMessages` on `listener` to print all the stored messages.\n",
    "\n",
    "The code is designed to send messages from a `sender` object to a `listener` object. It will store messages up to a maximum limit (10 in this case). If this limit is exceeded, it raises a custom exception (`TooManyMessagesException`) and then prints all the stored messages."
   ]
  }
 ],
 "metadata": {
  "kernelspec": {
   "display_name": "Python 3.10.4 64-bit",
   "language": "python",
   "name": "python3"
  },
  "language_info": {
   "codemirror_mode": {
    "name": "ipython",
    "version": 3
   },
   "file_extension": ".py",
   "mimetype": "text/x-python",
   "name": "python",
   "nbconvert_exporter": "python",
   "pygments_lexer": "ipython3",
   "version": "3.9.6"
  },
  "vscode": {
   "interpreter": {
    "hash": "949777d72b0d2535278d3dc13498b2535136f6dfe0678499012e853ee9abcab1"
   }
  }
 },
 "nbformat": 4,
 "nbformat_minor": 5
}
