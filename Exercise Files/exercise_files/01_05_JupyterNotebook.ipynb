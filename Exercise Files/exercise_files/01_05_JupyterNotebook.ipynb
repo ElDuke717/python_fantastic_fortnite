{
 "cells": [
  {
   "cell_type": "markdown",
   "id": "62ce1d82",
   "metadata": {},
   "source": [
    "# Title\n",
    "## Smaller Title"
   ]
  },
  {
   "cell_type": "markdown",
   "id": "12d15452",
   "metadata": {},
   "source": [
    "\\begin{equation}\n",
    "e^x=\\sum_{i=0}^\\infty \\frac{1}{i!}x^i\n",
    "\\end{equation}"
   ]
  },
  {
   "cell_type": "code",
   "execution_count": 2,
   "id": "ab0b33ee",
   "metadata": {},
   "outputs": [
    {
     "name": "stdout",
     "output_type": "stream",
     "text": [
      "Doing some data science!\n"
     ]
    }
   ],
   "source": [
    "print('Doing some data science!')"
   ]
  },
  {
   "cell_type": "code",
   "execution_count": 1,
   "id": "70df0832",
   "metadata": {},
   "outputs": [
    {
     "name": "stdout",
     "output_type": "stream",
     "text": [
      "2\n"
     ]
    }
   ],
   "source": [
    "print(1 + 1)"
   ]
  },
  {
   "cell_type": "markdown",
   "id": "80156cbd-31e6-455f-8c61-e425107af5e5",
   "metadata": {},
   "source": [
    "# Title\n",
    "## Subtitle in Markdown mode"
   ]
  },
  {
   "cell_type": "code",
   "execution_count": null,
   "id": "9c8839ee",
   "metadata": {},
   "outputs": [],
   "source": []
  },
  {
   "cell_type": "code",
   "execution_count": null,
   "id": "db1caf2e-ef36-4ca2-a570-a50e379a6359",
   "metadata": {},
   "outputs": [],
   "source": []
  },
  {
   "cell_type": "code",
   "execution_count": null,
   "id": "c0a4d06c-9c75-424e-b0d4-de64f2d51a35",
   "metadata": {},
   "outputs": [],
   "source": [
    "print('Doing some data science')"
   ]
  },
  {
   "cell_type": "markdown",
   "id": "5334d40b-3e47-45b6-b577-3592a0671e80",
   "metadata": {},
   "source": [
    "We can write some text here.  You can also reference math equations.  Jupyter notebooks can also be run in VSCode."
   ]
  },
  {
   "cell_type": "code",
   "execution_count": null,
   "id": "0f0ee69e-2630-457b-951b-79a973633ca7",
   "metadata": {},
   "outputs": [],
   "source": []
  }
 ],
 "metadata": {
  "kernelspec": {
   "display_name": "Python 3 (ipykernel)",
   "language": "python",
   "name": "python3"
  },
  "language_info": {
   "codemirror_mode": {
    "name": "ipython",
    "version": 3
   },
   "file_extension": ".py",
   "mimetype": "text/x-python",
   "name": "python",
   "nbconvert_exporter": "python",
   "pygments_lexer": "ipython3",
   "version": "3.10.4"
  },
  "vscode": {
   "interpreter": {
    "hash": "949777d72b0d2535278d3dc13498b2535136f6dfe0678499012e853ee9abcab1"
   }
  }
 },
 "nbformat": 4,
 "nbformat_minor": 5
}
